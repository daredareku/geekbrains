{
 "cells": [
  {
   "cell_type": "code",
   "execution_count": null,
   "metadata": {},
   "outputs": [],
   "source": [
    "\n",
    "new_dict={i:client_dict[i] for i in keys}\n",
    "<img src=https:// >\n",
    "<table><tr><td> </td><td> </td><td> </td> </tr></table>"
   ]
  }
 ],
 "metadata": {
  "kernelspec": {
   "display_name": "Python 3.10.5 64-bit",
   "language": "python",
   "name": "python3"
  },
  "language_info": {
   "name": "python",
   "version": "3.10.5"
  },
  "orig_nbformat": 4,
  "vscode": {
   "interpreter": {
    "hash": "443b29aea479f5d7a5f62760c54d09ec2f40854202f05a9d177165b9eb7f3741"
   }
  }
 },
 "nbformat": 4,
 "nbformat_minor": 2
}
